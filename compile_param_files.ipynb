{
 "cells": [
  {
   "cell_type": "code",
   "execution_count": 2,
   "metadata": {},
   "outputs": [],
   "source": [
    "import pandas as pd \n",
    "import matplotlib.pyplot as plt\n",
    "import seaborn as sns\n",
    "import numpy as np"
   ]
  },
  {
   "cell_type": "code",
   "execution_count": 32,
   "metadata": {},
   "outputs": [],
   "source": [
    "# open and concat the outputs\n",
    "df_1 = pd.read_csv(\"abm_final_results_all_GA_outputs_1.csv\").drop(columns=[\"Unnamed: 0\"])\n",
    "df_2 = pd.read_csv(\"abm_final_results_all_GA_outputs_2.csv\").drop(columns=[\"Unnamed: 0\"])\n",
    "df_3 = pd.read_csv(\"abm_final_results_all_GA_outputs_3.csv\").drop(columns=[\"Unnamed: 0\"])\n",
    "df_4 = pd.read_csv(\"abm_final_results_all_GA_outputs_4.csv\").drop(columns=[\"Unnamed: 0\"])\n",
    "df_5 = pd.read_csv(\"abm_final_results_all_GA_outputs_5.csv\").drop(columns=[\"Unnamed: 0\"])\n",
    "df_6 = pd.read_csv(\"abm_final_results_all_GA_outputs_6.csv\").drop(columns=[\"Unnamed: 0\"])\n",
    "df_7 = pd.read_csv(\"abm_final_results_all_GA_outputs_7.csv\").drop(columns=[\"Unnamed: 0\"])\n",
    "df_8 = pd.read_csv(\"abm_final_results_all_GA_outputs_8.csv\").drop(columns=[\"Unnamed: 0\"])\n",
    "df_9 = pd.read_csv(\"abm_final_results_all_GA_outputs_9.csv\").drop(columns=[\"Unnamed: 0\"])\n",
    "df_10 = pd.read_csv(\"abm_final_results_all_GA_outputs_10.csv\").drop(columns=[\"Unnamed: 0\"])\n",
    "\n",
    "df = pd.concat([df_1, df_2, df_3, df_4, df_5, df_6, df_7, df_8, df_9, df_10], axis=0)\n",
    "\n",
    "df.to_csv('abm_final_results_all_GA_outputs_combined.csv')"
   ]
  },
  {
   "cell_type": "code",
   "execution_count": 33,
   "metadata": {},
   "outputs": [
    {
     "data": {
      "text/plain": [
       "100"
      ]
     },
     "execution_count": 33,
     "metadata": {},
     "output_type": "execute_result"
    }
   ],
   "source": [
    "# make sure all 100 are there\n",
    "len(df.run_number.sort_values().unique())"
   ]
  },
  {
   "cell_type": "code",
   "execution_count": 34,
   "metadata": {},
   "outputs": [
    {
     "name": "stdout",
     "output_type": "stream",
     "text": [
      "min 0.0\n",
      "max 0.9047619047619048\n"
     ]
    }
   ],
   "source": [
    "# how many filters were passed\n",
    "print(\"min\", df.passed_filters.min()/63)\n",
    "print(\"max\", df.passed_filters.max()/63)"
   ]
  },
  {
   "cell_type": "code",
   "execution_count": 36,
   "metadata": {},
   "outputs": [],
   "source": [
    "best_run = df.loc[df[\"passed_filters\"] == df[\"passed_filters\"].max()]"
   ]
  },
  {
   "attachments": {},
   "cell_type": "markdown",
   "metadata": {},
   "source": [
    "# Check the best parameters"
   ]
  },
  {
   "cell_type": "code",
   "execution_count": 37,
   "metadata": {},
   "outputs": [
    {
     "data": {
      "text/html": [
       "<div>\n",
       "<style scoped>\n",
       "    .dataframe tbody tr th:only-of-type {\n",
       "        vertical-align: middle;\n",
       "    }\n",
       "\n",
       "    .dataframe tbody tr th {\n",
       "        vertical-align: top;\n",
       "    }\n",
       "\n",
       "    .dataframe thead th {\n",
       "        text-align: right;\n",
       "    }\n",
       "</style>\n",
       "<table border=\"1\" class=\"dataframe\">\n",
       "  <thead>\n",
       "    <tr style=\"text-align: right;\">\n",
       "      <th></th>\n",
       "      <th>chance_reproduceSapling</th>\n",
       "      <th>chance_reproduceYoungScrub</th>\n",
       "      <th>chance_regrowGrass</th>\n",
       "      <th>chance_saplingBecomingTree</th>\n",
       "      <th>chance_youngScrubMatures</th>\n",
       "      <th>chance_scrubOutcompetedByTree</th>\n",
       "      <th>chance_grassOutcompetedByTree</th>\n",
       "      <th>chance_grassOutcompetedByScrub</th>\n",
       "      <th>roe_deer_reproduce</th>\n",
       "      <th>roe_deer_gain_from_grass</th>\n",
       "      <th>...</th>\n",
       "      <th>cows_gain_from_young_scrub</th>\n",
       "      <th>tamworth_pig_reproduce</th>\n",
       "      <th>tamworth_pig_gain_from_grass</th>\n",
       "      <th>tamworth_pig_gain_from_trees</th>\n",
       "      <th>tamworth_pig_gain_from_scrub</th>\n",
       "      <th>tamworth_pig_gain_from_saplings</th>\n",
       "      <th>tamworth_pig_gain_from_young_scrub</th>\n",
       "      <th>chance_scrub_saves_saplings</th>\n",
       "      <th>fit</th>\n",
       "      <th>run_number</th>\n",
       "    </tr>\n",
       "  </thead>\n",
       "  <tbody>\n",
       "    <tr>\n",
       "      <th>38</th>\n",
       "      <td>0.004437</td>\n",
       "      <td>0.00267</td>\n",
       "      <td>0.783227</td>\n",
       "      <td>0.006747</td>\n",
       "      <td>0.019585</td>\n",
       "      <td>0.165847</td>\n",
       "      <td>0.281835</td>\n",
       "      <td>0.370236</td>\n",
       "      <td>0.04949</td>\n",
       "      <td>0.09999</td>\n",
       "      <td>...</td>\n",
       "      <td>0.047362</td>\n",
       "      <td>0.263841</td>\n",
       "      <td>0.849266</td>\n",
       "      <td>0.310912</td>\n",
       "      <td>0.10999</td>\n",
       "      <td>0.038039</td>\n",
       "      <td>0.050957</td>\n",
       "      <td>0.353805</td>\n",
       "      <td>6.842563</td>\n",
       "      <td>39</td>\n",
       "    </tr>\n",
       "  </tbody>\n",
       "</table>\n",
       "<p>1 rows × 46 columns</p>\n",
       "</div>"
      ],
      "text/plain": [
       "    chance_reproduceSapling  chance_reproduceYoungScrub  chance_regrowGrass  \\\n",
       "38                 0.004437                     0.00267            0.783227   \n",
       "\n",
       "    chance_saplingBecomingTree  chance_youngScrubMatures  \\\n",
       "38                    0.006747                  0.019585   \n",
       "\n",
       "    chance_scrubOutcompetedByTree  chance_grassOutcompetedByTree  \\\n",
       "38                       0.165847                       0.281835   \n",
       "\n",
       "    chance_grassOutcompetedByScrub  roe_deer_reproduce  \\\n",
       "38                        0.370236             0.04949   \n",
       "\n",
       "    roe_deer_gain_from_grass  ...  cows_gain_from_young_scrub  \\\n",
       "38                   0.09999  ...                    0.047362   \n",
       "\n",
       "    tamworth_pig_reproduce  tamworth_pig_gain_from_grass  \\\n",
       "38                0.263841                      0.849266   \n",
       "\n",
       "    tamworth_pig_gain_from_trees  tamworth_pig_gain_from_scrub  \\\n",
       "38                      0.310912                       0.10999   \n",
       "\n",
       "    tamworth_pig_gain_from_saplings  tamworth_pig_gain_from_young_scrub  \\\n",
       "38                         0.038039                            0.050957   \n",
       "\n",
       "    chance_scrub_saves_saplings       fit  run_number  \n",
       "38                     0.353805  6.842563          39  \n",
       "\n",
       "[1 rows x 46 columns]"
      ]
     },
     "execution_count": 37,
     "metadata": {},
     "output_type": "execute_result"
    }
   ],
   "source": [
    "# match the run number to the dfs to see how many filters it passed\n",
    "accepted_params = pd.read_excel('optimizer_outputs_resilience.xlsx')\n",
    "best_ps = accepted_params.loc[accepted_params[\"run_number\"] == 39]\n",
    "best_ps"
   ]
  },
  {
   "cell_type": "code",
   "execution_count": 39,
   "metadata": {},
   "outputs": [],
   "source": [
    "# save it to csv\n",
    "best_ps.to_csv(\"best_parameter_set_abm.csv\")"
   ]
  }
 ],
 "metadata": {
  "kernelspec": {
   "display_name": "Python 3",
   "language": "python",
   "name": "python3"
  },
  "language_info": {
   "codemirror_mode": {
    "name": "ipython",
    "version": 3
   },
   "file_extension": ".py",
   "mimetype": "text/x-python",
   "name": "python",
   "nbconvert_exporter": "python",
   "pygments_lexer": "ipython3",
   "version": "3.9.0"
  },
  "orig_nbformat": 4
 },
 "nbformat": 4,
 "nbformat_minor": 2
}
